{
  "nbformat": 4,
  "nbformat_minor": 0,
  "metadata": {
    "colab": {
      "provenance": []
    },
    "kernelspec": {
      "name": "python3",
      "display_name": "Python 3"
    },
    "language_info": {
      "name": "python"
    }
  },
  "cells": [
    {
      "cell_type": "code",
      "source": [
        "!pip install xlsxwriter\n",
        "\n",
        "import pandas as pd\n",
        "import numpy as np\n",
        "from google.colab import files\n",
        "import os"
      ],
      "metadata": {
        "colab": {
          "base_uri": "https://localhost:8080/"
        },
        "id": "_WgYWbi1NP5_",
        "outputId": "54e05562-f3cb-469b-bd41-4d5af8fafa6e"
      },
      "execution_count": null,
      "outputs": [
        {
          "output_type": "stream",
          "name": "stdout",
          "text": [
            "Requirement already satisfied: xlsxwriter in /usr/local/lib/python3.11/dist-packages (3.2.3)\n"
          ]
        }
      ]
    },
    {
      "cell_type": "code",
      "source": [
        "data = {\n",
        "'Name': ['Employee_1', 'Employee_2', 'Employee_3', 'Employee_4', 'Employee_5',\n",
        "'Employee_6', 'Employee_7', 'Employee_8', 'Employee_9', 'Employee_10',\n",
        "'Employee_11', 'Employee_12', 'Employee_13', 'Employee_14', 'Employee_15',\n",
        "'Employee_16', 'Employee_17', 'Employee_18', 'Employee_19', 'Employee_20',\n",
        "'Employee_21', 'Employee_22', 'Employee_23', 'Employee_24', 'Employee_25',\n",
        "'Employee_26', 'Employee_27', 'Employee_28', 'Employee_29', 'Employee_30'],\n",
        "'Salary': [54895.0, 38784.0, 120000.0, 60309.0, 46788.0,\n",
        "50598.0, 61915.0, 50651.0, 38155.0, 55480.0,\n",
        "49396.0, 64183.0, 38894.0, 46672.0, 20000.0,\n",
        "57935.0, 57055.0, 44719.0, 66267.0, 48339.0,\n",
        "44490.0, 48817.0, 39738.0, 59433.0, 80823.0,\n",
        "80000.0, 52704.0, 54168.0, 56569.0, 45481.0],\n",
        "'Age': [49, 48, 34, 33, 59, 36, 34, 30, 36, 29,\n",
        "29, 54, 55, 29, 53, 34, 23, 41, 58, 41,\n",
        "45, 22, 39, 47, 22, 30, 53, 33, 23, 52],\n",
        "'Function': ['HR', 'Sales', 'Manager', 'Manager', 'HR',\n",
        "'Sales', 'Manager', 'HR', 'Sales', 'HR',\n",
        "'Sales', 'Developer', 'Developer', 'Sales', 'HR',\n",
        "'Sales', 'Developer', 'Developer', 'HR', 'Sales',\n",
        "'HR', 'Manager', 'HR', 'Sales', 'HR', 'Sales',\n",
        "'Sales', 'Developer', 'Developer', 'HR']\n",
        "}\n",
        "\n",
        "df = pd.DataFrame(data)"
      ],
      "metadata": {
        "id": "Z-bykReLNa-w"
      },
      "execution_count": null,
      "outputs": []
    },
    {
      "cell_type": "code",
      "source": [
        "# Age Bucket\n",
        "age_bins = [0, 20, 30, 40, 50, 100]\n",
        "age_labels = ['<20 years', '20-30 years', '30-40 years', '40-50 years', '>50 years']\n",
        "df['Age_Bucketed'] = pd.cut(df['Age'], bins=age_bins, labels=age_labels, right=False)\n",
        "department_mapping = {\n",
        "'HR': 'HR001',\n",
        "'Sales': 'SAL002',\n",
        "'Manager': 'MGR003',\n",
        "'Developer': 'DEV004'\n",
        "}\n",
        "df['Function_Code'] = df['Function'].map(department_mapping)\n",
        "\n",
        "# Outliers\n",
        "Q1 = df['Salary'].quantile(0.25)\n",
        "Q3 = df['Salary'].quantile(0.75)\n",
        "IQR = Q3 - Q1\n",
        "lower_bound = Q1 - 1.5 * IQR\n",
        "upper_bound = Q3 + 1.5 * IQR\n",
        "df['Outlier_Status'] = np.where(\n",
        "    (df['Salary'] < lower_bound) | (df['Salary'] > upper_bound),\n",
        "    'Outlier',\n",
        "    'Not an Outlier'\n",
        ")"
      ],
      "metadata": {
        "id": "R48VqL3SNlAs"
      },
      "execution_count": null,
      "outputs": []
    },
    {
      "cell_type": "code",
      "execution_count": null,
      "metadata": {
        "colab": {
          "base_uri": "https://localhost:8080/",
          "height": 34
        },
        "id": "d-DkyPvI3Oos",
        "outputId": "b6bce645-ebab-4cac-8948-4a96145e9c97"
      },
      "outputs": [
        {
          "output_type": "display_data",
          "data": {
            "text/plain": [
              "<IPython.core.display.Javascript object>"
            ],
            "application/javascript": [
              "\n",
              "    async function download(id, filename, size) {\n",
              "      if (!google.colab.kernel.accessAllowed) {\n",
              "        return;\n",
              "      }\n",
              "      const div = document.createElement('div');\n",
              "      const label = document.createElement('label');\n",
              "      label.textContent = `Downloading \"${filename}\": `;\n",
              "      div.appendChild(label);\n",
              "      const progress = document.createElement('progress');\n",
              "      progress.max = size;\n",
              "      div.appendChild(progress);\n",
              "      document.body.appendChild(div);\n",
              "\n",
              "      const buffers = [];\n",
              "      let downloaded = 0;\n",
              "\n",
              "      const channel = await google.colab.kernel.comms.open(id);\n",
              "      // Send a message to notify the kernel that we're ready.\n",
              "      channel.send({})\n",
              "\n",
              "      for await (const message of channel.messages) {\n",
              "        // Send a message to notify the kernel that we're ready.\n",
              "        channel.send({})\n",
              "        if (message.buffers) {\n",
              "          for (const buffer of message.buffers) {\n",
              "            buffers.push(buffer);\n",
              "            downloaded += buffer.byteLength;\n",
              "            progress.value = downloaded;\n",
              "          }\n",
              "        }\n",
              "      }\n",
              "      const blob = new Blob(buffers, {type: 'application/binary'});\n",
              "      const a = document.createElement('a');\n",
              "      a.href = window.URL.createObjectURL(blob);\n",
              "      a.download = filename;\n",
              "      div.appendChild(a);\n",
              "      a.click();\n",
              "      div.remove();\n",
              "    }\n",
              "  "
            ]
          },
          "metadata": {}
        },
        {
          "output_type": "display_data",
          "data": {
            "text/plain": [
              "<IPython.core.display.Javascript object>"
            ],
            "application/javascript": [
              "download(\"download_8748ec47-03ae-428f-ba2a-0543b0013d19\", \"employee_data.xlsx\", 7295)"
            ]
          },
          "metadata": {}
        },
        {
          "output_type": "stream",
          "name": "stdout",
          "text": [
            "Excel file has been created and downloaded as 'employee_data.xlsx'\n"
          ]
        }
      ],
      "source": [
        "# dictionary to dataFrame\n",
        "department_df = pd.DataFrame(list(department_mapping.items()),\n",
        "                             columns=['Department', 'Department_Code'])\n",
        "\n",
        "filename = 'employee_data.xlsx'\n",
        "\n",
        "with pd.ExcelWriter(filename, engine='xlsxwriter') as writer:\n",
        "\n",
        "    df.to_excel(writer, sheet_name='Employee_Data', index=False)\n",
        "    department_df.to_excel(writer, sheet_name='Department_Codes', index=False)\n",
        "\n",
        "    workbook = writer.book\n",
        "\n",
        "    worksheet = writer.sheets['Employee_Data']\n",
        "    for col_num, value in enumerate(df.columns.values):\n",
        "        worksheet.write(0, col_num, value, header_format)\n",
        "\n",
        "    worksheet.set_column('A:A', 12)  # Name\n",
        "    worksheet.set_column('B:B', 10)  # Salary\n",
        "    worksheet.set_column('C:C', 6)   # Age\n",
        "    worksheet.set_column('D:D', 12)  # Function\n",
        "    worksheet.set_column('E:E', 12)  # Age_Bucketed\n",
        "    worksheet.set_column('F:F', 12)  # Function_Code\n",
        "    worksheet.set_column('G:G', 15)  # Outlier_Status\n",
        "\n",
        "    outlier_rows = df[df['Outlier_Status'] == 'Outlier'].index.tolist()\n",
        "    for row_idx in outlier_rows:\n",
        "        worksheet.set_row(row_idx + 1, None, outlier_format)\n",
        "\n",
        "    worksheet = writer.sheets['Department_Codes']\n",
        "    for col_num, value in enumerate(department_df.columns.values):\n",
        "        worksheet.write(0, col_num, value, header_format)\n",
        "\n",
        "    worksheet.set_column('A:B', 15)\n",
        "\n",
        "if os.path.exists(filename):\n",
        "    files.download(filename)\n",
        "    print(f\"Excel file has been created and downloaded as '{filename}'\")\n",
        "else:\n",
        "    print(f\"Error: File '{filename}' was not created properly\")"
      ]
    }
  ]
}